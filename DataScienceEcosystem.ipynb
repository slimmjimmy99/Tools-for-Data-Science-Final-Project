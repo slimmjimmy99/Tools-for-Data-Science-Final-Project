{
 "cells": [
  {
   "cell_type": "markdown",
   "id": "2f0c6e38-90aa-4d1a-89af-023ed2f374a7",
   "metadata": {},
   "source": [
    "# Data Science Tools and Ecosystem"
   ]
  },
  {
   "cell_type": "markdown",
   "id": "e8a617f2-37b7-4627-aad5-4f83b5863112",
   "metadata": {},
   "source": [
    "**In this notebook, Data Science Tools and Ecosystem are summarized.**"
   ]
  },
  {
   "cell_type": "markdown",
   "id": "8bf1721b-418e-4e8d-9789-84d953c7fa3f",
   "metadata": {},
   "source": [
    "**Objectives:**\n",
    "\n",
    "- List popular languages for Data Science  \n",
    "- Identify commonly used libraries in Data Science  \n",
    "- Describe open-source development environments for Data Science  \n",
    "- Demonstrate simple arithmetic expressions in Python  \n",
    "- Convert minutes into hours using Python expressions  \n"
   ]
  },
  {
   "cell_type": "markdown",
   "id": "ca85a4f2-0a9e-4fce-acee-ec3417248dda",
   "metadata": {},
   "source": [
    "**Some of the popular languages that Data Scientists use are:**\n",
    "1. Python\n",
    "2. R\n",
    "3. SQL\n",
    "4. Julia\n",
    "5. Java\n",
    "6. Scala"
   ]
  },
  {
   "cell_type": "markdown",
   "id": "824c7919-fa2a-4c75-a840-a8af4e7c4696",
   "metadata": {},
   "source": [
    "**Some of the popular languages that Data Scientists use are:**\n",
    "1. Pandas\n",
    "2. NumPy\n",
    "3. Matplotlib\n",
    "4. Seaborn\n",
    "5. Scikit-learn\n",
    "6. TensorFlow"
   ]
  },
  {
   "cell_type": "markdown",
   "id": "e59759ff-6c4e-4135-99af-2edc53e6b1d0",
   "metadata": {},
   "source": [
    "**Some of the popular development environment open source tools that Data Scientists use are:**\n",
    "|Data Science Tools|\n",
    "|------------------|\n",
    "|Jupyter Notebook|\n",
    "|JupyterLab |\n",
    "|RStudio |\n",
    "|Spyder |\n",
    "|VS Code |\n",
    "|Apache Zeppelin |"
   ]
  },
  {
   "cell_type": "markdown",
   "id": "819236e8-5512-45bd-a4be-1cd88415a2f0",
   "metadata": {},
   "source": [
    "### Below are a few examples of evaluating arithmetic expressions in Python\n",
    "\n",
    "In this section, we will demonstrate some basic arithmetic expressions such as addition, subtraction, multiplication, division, and exponents in Python.\n"
   ]
  },
  {
   "cell_type": "code",
   "execution_count": 7,
   "id": "9ca56dd3-3c11-4a6e-b599-28445784f0c5",
   "metadata": {},
   "outputs": [
    {
     "data": {
      "text/plain": [
       "17"
      ]
     },
     "execution_count": 7,
     "metadata": {},
     "output_type": "execute_result"
    }
   ],
   "source": [
    "# This is a simple arithmetic expression to multiply then add integers\n",
    "(3 * 4) + 5\n"
   ]
  },
  {
   "cell_type": "code",
   "execution_count": 8,
   "id": "e1a7a749-a572-48bc-a797-12f8f9233a96",
   "metadata": {},
   "outputs": [
    {
     "data": {
      "text/plain": [
       "3.3333333333333335"
      ]
     },
     "execution_count": 8,
     "metadata": {},
     "output_type": "execute_result"
    }
   ],
   "source": [
    "# This will convert 200 minutes to hours by dividing by 60\n",
    "200 / 60\n"
   ]
  },
  {
   "cell_type": "code",
   "execution_count": null,
   "id": "2a143588-69f9-41a1-adbf-480afd201fc0",
   "metadata": {},
   "outputs": [],
   "source": [
    "**Objectives:**\n",
    "\n",
    "- List popular languages for Data Science  \n",
    "- Identify commonly used libraries in Data Science  \n",
    "- Describe open-source development environments for Data Science  \n",
    "- Demonstrate simple arithmetic expressions in Python  \n",
    "- Convert minutes into hours using Python expressions  "
   ]
  },
  {
   "cell_type": "markdown",
   "id": "6ef60a40-2c01-46ea-90e5-72e5a0fb9662",
   "metadata": {},
   "source": [
    "## Author\n",
    "*João Rodrigues*\n",
    "\n"
   ]
  }
 ],
 "metadata": {
  "kernelspec": {
   "display_name": "Python [conda env:base] *",
   "language": "python",
   "name": "conda-base-py"
  },
  "language_info": {
   "codemirror_mode": {
    "name": "ipython",
    "version": 3
   },
   "file_extension": ".py",
   "mimetype": "text/x-python",
   "name": "python",
   "nbconvert_exporter": "python",
   "pygments_lexer": "ipython3",
   "version": "3.13.5"
  }
 },
 "nbformat": 4,
 "nbformat_minor": 5
}
